{
 "cells": [
  {
   "cell_type": "code",
   "execution_count": 1,
   "metadata": {
    "collapsed": false,
    "deletable": true,
    "editable": true
   },
   "outputs": [],
   "source": [
    "from bs4 import BeautifulSoup\n",
    "import bs4\n",
    "import gzip\n",
    "import tarfile\n",
    "from tqdm import tqdm\n",
    "from os import listdir\n",
    "from os.path import isfile, join\n",
    "import pickle\n",
    "from pprint import pprint"
   ]
  },
  {
   "cell_type": "code",
   "execution_count": 2,
   "metadata": {
    "collapsed": false,
    "deletable": true,
    "editable": true
   },
   "outputs": [],
   "source": [
    "#\n",
    "# Read \n",
    "#\n",
    "def file_counter():\n",
    "    mp = \"C:/Users/Hampus/Downloads/Torrents/dnmarchives/alphabay/alphabay/\"\n",
    "    dirs = [mp+f for f in listdir(mp) if not isfile(join(mp, f))]\n",
    "\n",
    "    for d in dirs:\n",
    "        print(d,\":\",len([d+f for f in listdir(d) if isfile(join(d, f))]))\n",
    "    \n",
    "# pprint(dirs)\n",
    "# print(\"Files found:\",len(onlyfiles))\n",
    "# print(onlyfiles[0])"
   ]
  },
  {
   "cell_type": "code",
   "execution_count": 65,
   "metadata": {
    "collapsed": false,
    "deletable": true,
    "editable": true
   },
   "outputs": [
    {
     "name": "stdout",
     "output_type": "stream",
     "text": [
      "Files found: 90076\n",
      "C:/Users/Hampus/Downloads/Torrents/dnmarchives/alphabay/alphabay/2015-05-06/151\n"
     ]
    }
   ],
   "source": [
    "#\n",
    "# Read \n",
    "#\n",
    "mypath = \"C:/Users/Hampus/Downloads/Torrents/dnmarchives/alphabay/alphabay/2015-05-06/\"\n",
    "onlyfiles = [mypath+f for f in listdir(mypath) if isfile(join(mypath, f))]\n",
    "\n",
    "print(\"Files found:\",len(onlyfiles))\n",
    "print(onlyfiles[0])"
   ]
  },
  {
   "cell_type": "code",
   "execution_count": 66,
   "metadata": {
    "collapsed": false,
    "deletable": true,
    "editable": true
   },
   "outputs": [
    {
     "name": "stdout",
     "output_type": "stream",
     "text": [
      "Files found: 90076\n",
      "Unique files found: 5879\n"
     ]
    }
   ],
   "source": [
    "print(\"Files found:\",len(onlyfiles))\n",
    "new_f = []\n",
    "for x in onlyfiles:\n",
    "    if \"listing\" in x:\n",
    "         new_f.append(x.split(\"&\")[0])\n",
    "    \n",
    "onlyfiles = list(set(new_f))\n",
    "print(\"Unique files found:\",len(onlyfiles))"
   ]
  },
  {
   "cell_type": "code",
   "execution_count": 68,
   "metadata": {
    "collapsed": false,
    "deletable": true,
    "editable": true,
    "scrolled": true
   },
   "outputs": [
    {
     "name": "stderr",
     "output_type": "stream",
     "text": [
      "\n",
      "  0%|                                                 | 0/5879 [00:00<?, ?it/s]\n",
      "  1%|▏                                      | 37/5879 [00:00<00:15, 367.84it/s]\n",
      "  1%|▍                                      | 71/5879 [00:00<00:16, 358.37it/s]\n",
      "  2%|▋                                     | 110/5879 [00:00<00:15, 365.15it/s]\n",
      "  2%|▉                                     | 144/5879 [00:00<00:16, 357.16it/s]\n",
      "  3%|█▏                                    | 181/5879 [00:00<00:15, 359.79it/s]\n",
      "  4%|█▍                                    | 218/5879 [00:00<00:15, 355.91it/s]\n",
      "  4%|█▋                                     | 250/5879 [00:01<01:09, 81.15it/s]\n",
      "  5%|█▊                                     | 273/5879 [00:02<01:58, 47.19it/s]\n",
      "  5%|█▉                                     | 290/5879 [00:03<02:47, 33.32it/s]\n",
      "  5%|██                                     | 303/5879 [00:04<03:01, 30.70it/s]\n",
      "  5%|██                                     | 313/5879 [00:04<03:17, 28.25it/s]\n",
      "  5%|██▏                                    | 321/5879 [00:04<03:50, 24.12it/s]\n",
      "  6%|██▏                                    | 327/5879 [00:05<03:53, 23.80it/s]\n",
      "  6%|██▏                                    | 332/5879 [00:05<03:59, 23.20it/s]\n",
      "  6%|██▏                                    | 336/5879 [00:05<04:32, 20.37it/s]\n",
      "100%|██████████████████████████████████████| 5879/5879 [03:16<00:00, 29.88it/s]\n"
     ]
    }
   ],
   "source": [
    "raw_content = []\n",
    "\n",
    "for f in tqdm(onlyfiles):\n",
    "    try:\n",
    "        with open(f, encoding=\"ascii\", errors='replace') as f:\n",
    "            raw = f.read()\n",
    "            raw_content.append(raw)\n",
    "    except:\n",
    "        0"
   ]
  },
  {
   "cell_type": "code",
   "execution_count": 69,
   "metadata": {
    "collapsed": false,
    "deletable": true,
    "editable": true,
    "scrolled": false
   },
   "outputs": [],
   "source": [
    "#\n",
    "# Removes script and html-tags - returns plain text\n",
    "#\n",
    "def clean_html(str):\n",
    "    soup = BeautifulSoup(str,\"lxml\")\n",
    "\n",
    "    # kill all script and style elements\n",
    "    for script in soup([\"script\", \"style\"]):\n",
    "        script.extract() # rip it out \n",
    "    \n",
    "    text = soup.get_text(strip=False)\n",
    "    \n",
    "    text=text.replace(u'\\xa0',u'')\n",
    "\n",
    "    return text"
   ]
  },
  {
   "cell_type": "code",
   "execution_count": 70,
   "metadata": {
    "collapsed": false,
    "deletable": true,
    "editable": true
   },
   "outputs": [],
   "source": [
    "#\n",
    "# Get substring start index\n",
    "#\n",
    "def substr(str, subs, start=0):\n",
    "    for i in range(start,len(str)+start):\n",
    "        if str[i:i+len(subs)] == subs:\n",
    "            return i\n",
    "    raise ValueError('No substring:',subs)\n",
    "    \n",
    "def rev_substr(str, subs, start):\n",
    "    for i in range(start,0,-1):\n",
    "        if str[i:i+len(subs)] == subs:\n",
    "            return i\n",
    "    raise ValueError('No rev substring:',subs)\n",
    "  "
   ]
  },
  {
   "cell_type": "code",
   "execution_count": 71,
   "metadata": {
    "collapsed": true,
    "deletable": true,
    "editable": true
   },
   "outputs": [],
   "source": [
    "#\n",
    "# Retireve country origin text\n",
    "# text string\n",
    "#\n",
    "def get_country(str):\n",
    "    ind_start = substr(str, \"FeaturesOrigin country\", 150)+22\n",
    "    ind_stop = substr(str, \"Ship\", ind_start) #?\n",
    "    \n",
    "    txt = str[ind_start:ind_stop]\n",
    "    return txt "
   ]
  },
  {
   "cell_type": "code",
   "execution_count": 72,
   "metadata": {
    "collapsed": true,
    "deletable": true,
    "editable": true
   },
   "outputs": [],
   "source": [
    "#\n",
    "# Retireve country origin text\n",
    "# text string\n",
    "#\n",
    "def get_shipsto(str):\n",
    "    ind_start = substr(str, \"Ships to\", 150)+8\n",
    "    ind_stop = substr(str, \"\\n\", ind_start)\n",
    "    \n",
    "    txt = str[ind_start:ind_stop]\n",
    "    return txt "
   ]
  },
  {
   "cell_type": "code",
   "execution_count": 73,
   "metadata": {
    "collapsed": true,
    "deletable": true,
    "editable": true
   },
   "outputs": [],
   "source": [
    "#\n",
    "# Retireve price\n",
    "# text string\n",
    "#\n",
    "def get_price(str):\n",
    "    ind_start = substr(str, \"Purchase price: \", 150)+8\n",
    "    ind_stop = substr(str, \"Qty:\", ind_start)\n",
    "    \n",
    "    txt = str[ind_start:ind_stop]\n",
    "    return txt "
   ]
  },
  {
   "cell_type": "code",
   "execution_count": 74,
   "metadata": {
    "collapsed": true,
    "deletable": true,
    "editable": true
   },
   "outputs": [],
   "source": [
    "#\n",
    "# Retireve country origin text\n",
    "# text string\n",
    "#\n",
    "def get_soldby(str):\n",
    "    ind_start = substr(str, \"Sold by\", 150)+7\n",
    "    ind_stop = substr(str, \"-\", ind_start)\n",
    "    \n",
    "    txt = str[ind_start:ind_stop]\n",
    "    return txt \n"
   ]
  },
  {
   "cell_type": "code",
   "execution_count": 75,
   "metadata": {
    "collapsed": false,
    "deletable": true,
    "editable": true
   },
   "outputs": [],
   "source": [
    "#\n",
    "# Retireve Alphabay listing title. \n",
    "# title string\n",
    "#\n",
    "def get_title(str):\n",
    "    ind = substr(str, \" | AlphaBay Market\")\n",
    "    return str[:ind]"
   ]
  },
  {
   "cell_type": "code",
   "execution_count": 76,
   "metadata": {
    "collapsed": true,
    "deletable": true,
    "editable": true
   },
   "outputs": [],
   "source": [
    "#\n",
    "# Retireve Alphabay listing category. \n",
    "# title string\n",
    "#\n",
    "def get_category(str):\n",
    "    ind_start = substr(str, \"Home /\")+6\n",
    "    mid_stop = substr(str, \"Listing Options\", ind_start)\n",
    "    ind_stop = rev_substr(str, \"/\\n\", mid_stop)\n",
    "    cate = str[ind_start:ind_stop]\n",
    "    cate = cate.replace(\"\\n\", \"\")\n",
    "    cate = cate.replace(\" \", \"\")\n",
    "    return cate \n",
    "    "
   ]
  },
  {
   "cell_type": "code",
   "execution_count": 77,
   "metadata": {
    "collapsed": true,
    "deletable": true,
    "editable": true
   },
   "outputs": [],
   "source": [
    "#\n",
    "# Retireve description text\n",
    "# text string\n",
    "#\n",
    "def get_desc(str):\n",
    "    ind_start = substr(str, \"Product Description\", 150)+19\n",
    "    ind_stop = substr(str, \"Listing Bids\", ind_start)#-21\n",
    "    \n",
    "    txt = str[ind_start:ind_stop]\n",
    "\n",
    "    return txt \n",
    "    "
   ]
  },
  {
   "cell_type": "code",
   "execution_count": 78,
   "metadata": {
    "collapsed": false,
    "deletable": true,
    "editable": true,
    "scrolled": false
   },
   "outputs": [
    {
     "name": "stderr",
     "output_type": "stream",
     "text": [
      "100%|██████████████████████████████████████| 5876/5876 [05:30<00:00, 17.78it/s]\n"
     ]
    },
    {
     "name": "stdout",
     "output_type": "stream",
     "text": [
      "293\n"
     ]
    }
   ],
   "source": [
    "dataset = []\n",
    "err=0\n",
    "\n",
    "for page in tqdm(raw_content):\n",
    "    tmp = {}\n",
    "    txt = clean_html(page)\n",
    "    try:\n",
    "        title = get_title(txt)\n",
    "        cate = get_category(txt)\n",
    "        desc = get_desc(txt)\n",
    "        country = get_country(txt)\n",
    "        soldby = get_soldby(txt)\n",
    "        price = get_price(txt)\n",
    "\n",
    "        tmp[\"title\"] = title\n",
    "        tmp[\"category\"] = cate\n",
    "        tmp[\"soldby\"] = soldby\n",
    "        tmp[\"price\"] = price\n",
    "        tmp[\"country\"] = country\n",
    "        tmp[\"description\"] = desc\n",
    "\n",
    "        dataset.append(tmp)\n",
    "    except:\n",
    "        err+=1\n",
    "print(err)\n"
   ]
  },
  {
   "cell_type": "code",
   "execution_count": 4,
   "metadata": {
    "collapsed": false,
    "deletable": true,
    "editable": true,
    "scrolled": true
   },
   "outputs": [
    {
     "ename": "NameError",
     "evalue": "name 'dataset' is not defined",
     "output_type": "error",
     "traceback": [
      "\u001b[0;31m---------------------------------------------------------------------------\u001b[0m",
      "\u001b[0;31mNameError\u001b[0m                                 Traceback (most recent call last)",
      "\u001b[0;32m<ipython-input-4-d9d9d39124a4>\u001b[0m in \u001b[0;36m<module>\u001b[0;34m()\u001b[0m\n\u001b[0;32m----> 1\u001b[0;31m \u001b[0mpickle\u001b[0m\u001b[0;34m.\u001b[0m\u001b[0mdump\u001b[0m\u001b[0;34m(\u001b[0m\u001b[0mdataset\u001b[0m\u001b[0;34m,\u001b[0m \u001b[0mopen\u001b[0m\u001b[0;34m(\u001b[0m \u001b[0;34m\"dataset_alphabay.p\"\u001b[0m\u001b[0;34m,\u001b[0m \u001b[0;34m\"wb\"\u001b[0m \u001b[0;34m)\u001b[0m\u001b[0;34m,\u001b[0m\u001b[0mprotocol\u001b[0m\u001b[0;34m=\u001b[0m\u001b[0;36m2\u001b[0m\u001b[0;34m)\u001b[0m\u001b[0;34m\u001b[0m\u001b[0m\n\u001b[0m",
      "\u001b[0;31mNameError\u001b[0m: name 'dataset' is not defined"
     ]
    }
   ],
   "source": [
    "pickle.dump(dataset, open(\"dataset_alphabay.p\", \"wb\"), protocol=2)"
   ]
  },
  {
   "cell_type": "code",
   "execution_count": 80,
   "metadata": {
    "collapsed": false,
    "deletable": true,
    "editable": true
   },
   "outputs": [
    {
     "name": "stdout",
     "output_type": "stream",
     "text": [
      "files: 5876\n",
      "Listings: 5583 ( 95.0136147038802 %)\n",
      "Other: 293 ( 4.986385296119809 %)\n"
     ]
    }
   ],
   "source": [
    "print(\"files:\",len(raw_content))\n",
    "print(\"Listings:\",(len(raw_content)-err),\"(\",(len(raw_content)-err)/len(raw_content)*100,\"%)\")\n",
    "print(\"Other:\",err,\"(\",err/len(raw_content)*100,\"%)\")\n",
    "\n"
   ]
  },
  {
   "cell_type": "code",
   "execution_count": 83,
   "metadata": {
    "collapsed": false,
    "deletable": true,
    "editable": true,
    "scrolled": true
   },
   "outputs": [
    {
     "name": "stdout",
     "output_type": "stream",
     "text": [
      "title: ������Special request  bank drop account ������\n",
      "_____________\n",
      "category: Fraud/Accounts&BankDrops/\n",
      "_____________\n",
      "sold by:  docmomo99 \n",
      "_____________\n",
      "price:  price: USD 130.00\n",
      "_____________\n",
      "country:  Worldwide\n",
      "_____________\n",
      "description: ���������������The best service, the cheapest and smartest choice���������������\n",
      "\n",
      "This account aren't hacked or phished. They are created by me, which make you the only owner of the account.\n",
      "----------------------------------------------------------------------------------------------------------\n",
      "A provide info about the person: SSN+DOB+MMN  DL exp and issue and more.\n",
      "\n",
      "\n",
      "-- PACKAGES --\n",
      "\n",
      "[���] CHECKING ACCOUNT WORKING \n",
      "[���] PAYMENT PROCESSORS READY\n",
      "[���] GOOGLE VOICE NUMBER\n",
      "[���] IP\n",
      "[���] FULLZ DETAILS\n",
      "[���] DEBIT CARD SHIP TO YOUR DROP\n",
      "[���] LOGIN PASSWORD ANS SECRETS QUESTIONS. \n",
      "[���] COINBASE + MINT LINK  OR NOT ITS YOUR CHOICE.\n",
      "\n",
      "[���] FREQUENTLY ASKED QUESTIONS\n",
      "\n",
      "Q1. Do you have any in stock or do I need to wait?\n",
      "A1. I Have only one for the moment.\n",
      "\n",
      "Q2. Can the account receive wire transfers from other countries?\n",
      "A2. These accounts are real bank accounts. There are no different than the one you or your family have. They have an account number and a routing number, so yes, they can receive any kind of wire.\n",
      "\n",
      "Q3. Do you provide support if I encounter issues with the account?\n",
      "A3. Yes. I am on Jabber/ICQ every day and I always answer to my clients for all of my services if they encounter any problem\n",
      "\n",
      "Q4. I live outside the US, can you reship the debit card to me?\n",
      "A4. No.\n",
      "\n",
      "\n",
      "[���] TERMS OF SERVICES\n",
      "\n",
      "1. I am delivering a working bank account with all requested services attached to it. Once the order is delivered, no refund will be granted or dispute accepted. I double check everything to make sure that the accounts are fully fonctional hence there should be no issue coming from my end.\n",
      "2. I am not responsible if you limit the account, flag it, fail to link it to any payment processor or other service not included in the package. This is your doing, not mine.\n",
      "3. By purchasing this you agree that you know how to work with the material provided. I will try to help you if you have a problem regarding the order (which should not happen anyway), but please try to solve it yourself first.\n",
      "4. You are purchasing this product because you agree to my terms of services.\n",
      "5. If you do not understand or you do not agree to my terms of services, DO NOT purchase this product.bank drop special request huntington bbt money square \n"
     ]
    }
   ],
   "source": [
    "txt = clean_html(raw_content[124])\n",
    "\n",
    "title = get_title(txt)\n",
    "cate = get_category(txt)\n",
    "desc = get_desc(txt)\n",
    "origin = get_country(txt)\n",
    "soldby = get_soldby(txt)\n",
    "price = get_price(txt)\n",
    "\n",
    "print(\"title:\",title)\n",
    "print(\"_____________\")\n",
    "print(\"category:\",cate)\n",
    "print(\"_____________\")\n",
    "print(\"sold by:\",soldby)\n",
    "print(\"_____________\")\n",
    "print(\"price:\",price)\n",
    "print(\"_____________\")\n",
    "print(\"country:\",origin)\n",
    "\n",
    "print(\"_____________\")\n",
    "print(\"description:\",desc)"
   ]
  },
  {
   "cell_type": "code",
   "execution_count": null,
   "metadata": {
    "collapsed": false,
    "deletable": true,
    "editable": true
   },
   "outputs": [],
   "source": [
    "# import tarfile\n",
    "# tar = tarfile.open('C:/Users/Hampus/Downloads/Torrents/dnmarchives/tom.tar.xz', 'r:xz')\n",
    "# gz = f.read()\n",
    "# f.close()"
   ]
  },
  {
   "cell_type": "code",
   "execution_count": null,
   "metadata": {
    "collapsed": false,
    "deletable": true,
    "editable": true
   },
   "outputs": [],
   "source": [
    "# with tarfile.open('C:/Users/Hampus/Downloads/Torrents/dnmarchives/tom.tar.xz') as f:\n",
    "#     f.extractall('.')"
   ]
  }
 ],
 "metadata": {
  "kernelspec": {
   "display_name": "Python 2",
   "language": "python",
   "name": "python2"
  },
  "language_info": {
   "codemirror_mode": {
    "name": "ipython",
    "version": 2
   },
   "file_extension": ".py",
   "mimetype": "text/x-python",
   "name": "python",
   "nbconvert_exporter": "python",
   "pygments_lexer": "ipython2",
   "version": "2.7.12"
  }
 },
 "nbformat": 4,
 "nbformat_minor": 2
}
