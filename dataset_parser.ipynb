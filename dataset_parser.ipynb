{
 "cells": [
  {
   "cell_type": "code",
   "execution_count": 2,
   "metadata": {
    "collapsed": true,
    "deletable": true,
    "editable": true
   },
   "outputs": [],
   "source": [
    "import pickle\n",
    "import bs4\n",
    "import gzip\n",
    "import tarfile\n",
    "import matplotlib.pyplot as plt\n",
    "import numpy as np\n",
    "import os\n",
    "from bs4 import BeautifulSoup\n",
    "from tqdm import tqdm\n",
    "from os import listdir\n",
    "from os.path import isfile, join\n",
    "from pprint import pprint\n",
    "from operator import itemgetter\n",
    "\n",
    "# import matplotlib\n",
    "# matplotlib.rcParams.update({'font.size': 13})\n",
    "# plt.style.use(\"ggplot\")"
   ]
  },
  {
   "cell_type": "code",
   "execution_count": 5,
   "metadata": {
    "collapsed": false,
    "deletable": true,
    "editable": true
   },
   "outputs": [],
   "source": [
    "#\n",
    "# Create the directories needed\n",
    "#\n",
    "if not os.path.exists(\"data\"):\n",
    "    os.makedirs(\"data\")\n",
    "\n",
    "if not os.path.exists(\"data/img\"):\n",
    "    os.makedirs(\"data/img\")\n",
    "    \n",
    "if not os.path.exists(\"data/meta\"):\n",
    "    os.makedirs(\"data/meta\")\n",
    "\n",
    "if not os.path.exists(\"data/meta/svd\"):\n",
    "    os.makedirs(\"data/meta/svd\")\n",
    "    \n",
    "if not os.path.exists(\"data/meta/bow\"):\n",
    "    os.makedirs(\"data/meta/bow\")"
   ]
  },
  {
   "cell_type": "code",
   "execution_count": 3,
   "metadata": {
    "collapsed": true,
    "deletable": true,
    "editable": true
   },
   "outputs": [],
   "source": [
    "#\n",
    "# Remove numbers from a sample\n",
    "#\n",
    "def remove_numbers(str):\n",
    "    result = ''.join(i for i in str if not i.isdigit())\n",
    "    return(result)"
   ]
  },
  {
   "cell_type": "code",
   "execution_count": 4,
   "metadata": {
    "collapsed": true,
    "deletable": true,
    "editable": true
   },
   "outputs": [],
   "source": [
    "#\n",
    "# Removes script and html-tags from a sample - returns plain text\n",
    "#\n",
    "def clean_html(str):\n",
    "    soup = BeautifulSoup(str,\"lxml\")\n",
    "\n",
    "    # kill all script and style elements\n",
    "    for script in soup([\"script\", \"style\"]):\n",
    "        script.extract() # rip it out \n",
    "    text = soup.get_text(strip=False)\n",
    "    text = text.replace(u'\\xa0',u'')\n",
    "#     text = rem_numb(text)\n",
    "    return text"
   ]
  },
  {
   "cell_type": "code",
   "execution_count": 5,
   "metadata": {
    "collapsed": true,
    "deletable": true,
    "editable": true
   },
   "outputs": [],
   "source": [
    "#\n",
    "# Get substring start index\n",
    "#\n",
    "\n",
    "def substr(str0, subs, start=0):\n",
    "    for i in range(start,len(str0)+start):\n",
    "        if str0[i:i+len(subs)] == subs:\n",
    "            return i\n",
    "    raise ValueError('No substring:',subs)\n",
    "    \n",
    "def rev_substr(str0, subs, start):\n",
    "    for i in range(start,0,-1):\n",
    "        if str0[i:i+len(subs)] == subs:\n",
    "            return i\n",
    "    raise ValueError('No rev substring:',subs)\n",
    "\n",
    "def str_between(str_s, str1, str2):\n",
    "    str0=str(str_s)\n",
    "    start = substr(str0, str1)\n",
    "    stop = substr(str0, str2, start)\n",
    "    return str0[start+len(str1):stop]\n",
    "\n",
    "def rev_str_between(str_s, str1, str2):\n",
    "    str0=str(str_s)\n",
    "    start = substr(str0, str1)\n",
    "    stop = rev_substr(str0, str2, start)\n",
    "    return str0[stop+len(str2):start]\n",
    "    \n",
    "# test = \"<TarInfo 'alphabay/2015-04-30/search.php?s_terms=ua&pg=18' at 0x7f9dc97d2368>\"\n",
    "# test = \"<TarInfo 'alphabay/2015-06-12/user.php?id=2680&tab=5&pg4=1' at 0x7f9dbec302a0>\"\n",
    "# test = \" <TarInfo 'silkroad2-forums/2014-02-21/index.php?topic=11429.0' at 0x7f6098dfef20>,\"\n",
    "# rev_str_between(test,\".php?\",\"/\")"
   ]
  },
  {
   "cell_type": "code",
   "execution_count": 6,
   "metadata": {
    "collapsed": false,
    "deletable": true,
    "editable": true
   },
   "outputs": [],
   "source": [
    "#\n",
    "# Read all tar-files in folder (parent)\n",
    "#\n",
    "def get_tars():\n",
    "    parent = \"/home/hades/exjobb/dumps/dnm/\"\n",
    "    files = [parent+f for f in listdir(parent) if isfile(join(parent, f))]\n",
    "    return files\n",
    "\n",
    "# pprint(get_tars())"
   ]
  },
  {
   "cell_type": "code",
   "execution_count": 7,
   "metadata": {
    "collapsed": true,
    "deletable": true,
    "editable": true
   },
   "outputs": [],
   "source": [
    "#\n",
    "# Untar a file and return its members\n",
    "# returns: tar, members\n",
    "#\n",
    "def get_tar_members(tar_fn):\n",
    "    fn = str(tar_fn).split(\"/\")[-1].split(\".\")[0]\n",
    "    \n",
    "    if os.path.exists(\"data/meta/{}_members.pickle\".format(fn)):\n",
    "        _, members = pickle.load(open(\"data/meta/{}_members.pickle\".format(fn),\"rb\"))\n",
    "    else:\n",
    "        tar = tarfile.open(tar_fn, \"r:xz\")\n",
    "        members = tar.getmembers()\n",
    "        tar.close()\n",
    "        pickle.dump((tar_fn, members), open(\"data/meta/{}_members.pickle\".format(fn),\"wb\"), protocol=2)\n",
    "\n",
    "    return members"
   ]
  },
  {
   "cell_type": "code",
   "execution_count": 8,
   "metadata": {
    "collapsed": false,
    "deletable": true,
    "editable": true
   },
   "outputs": [],
   "source": [
    "#\n",
    "# untar files - using members - and strip HTML tags etc. returns a list of members\n",
    "#\n",
    "def untar_members(tar_fn, mem):\n",
    "    tar = tarfile.open(tar_fn, \"r:xz\")\n",
    "    raw = []\n",
    "    for m in tqdm(mem):\n",
    "        fn = tar.extractfile(m)\n",
    "        f = fn.read()\n",
    "        f = f.decode(errors='ignore')\n",
    "#         raw.append(clean_html(f))\n",
    "        raw.append(f)\n",
    "    tar.close()\n",
    "    return raw"
   ]
  },
  {
   "cell_type": "code",
   "execution_count": 9,
   "metadata": {
    "collapsed": false,
    "deletable": true,
    "editable": true
   },
   "outputs": [
    {
     "name": "stdout",
     "output_type": "stream",
     "text": [
      "5 /home/hades/exjobb/dumps/dnm/silkroad1-20130915-aldridgehetu.tar.xz\n",
      "11 /home/hades/exjobb/dumps/dnm/silkroad1-20120723-christin-censored.tar.xz\n",
      "21 /home/hades/exjobb/dumps/dnm/silkroad2-20140129-sohhlz-vendors.tar.xz\n",
      "30 /home/hades/exjobb/dumps/dnm/silkroad2-20140927-daryllau.tar.xz\n",
      "31 /home/hades/exjobb/dumps/dnm/silkroad1-forums-stexo.tar.xz\n",
      "32 /home/hades/exjobb/dumps/dnm/silkroad2-forums-2014093020141016-rasmusandersen.tar.xz\n",
      "49 /home/hades/exjobb/dumps/dnm/silkroad1-forums-anonymous.tar.xz\n",
      "56 /home/hades/exjobb/dumps/dnm/silkroad2.tar.xz\n",
      "63 /home/hades/exjobb/dumps/dnm/silkroad1-wiki.tar.xz\n",
      "64 /home/hades/exjobb/dumps/dnm/silkroad1-20130703-anonymous.tar.xz\n",
      "65 /home/hades/exjobb/dumps/dnm/silkroad1-vendorprofiles-stexo.tar.xz\n",
      "87 /home/hades/exjobb/dumps/dnm/silkroad2-forums.tar.xz\n",
      "90 /home/hades/exjobb/dumps/dnm/silkroad1-20111103-delyankratunov.tar.xz\n",
      "102 /home/hades/exjobb/dumps/dnm/silkroad2-forums-20140419-whom-astorposts.tar.xz\n",
      "108 /home/hades/exjobb/dumps/dnm/silkroad1-forums-20131103-gwernrasmusandersen.tar.xz\n",
      "114 /home/hades/exjobb/dumps/dnm/silkroad1-forums.tar.xz\n",
      "124 /home/hades/exjobb/dumps/dnm/silkroad1-forums-20130703-anonymous.tar.xz\n",
      "151 /home/hades/exjobb/dumps/dnm/silkstreet.tar.xz\n",
      "154 /home/hades/exjobb/dumps/dnm/silkroadreloaded.tar.xz\n"
     ]
    }
   ],
   "source": [
    "#\n",
    "# Look for a substr in tars\n",
    "#\n",
    "for i,x in enumerate(get_tars()):\n",
    "    if \"silk\" in x:\n",
    "        print(i,x)"
   ]
  },
  {
   "cell_type": "code",
   "execution_count": 10,
   "metadata": {
    "collapsed": false,
    "deletable": true,
    "editable": true
   },
   "outputs": [
    {
     "name": "stdout",
     "output_type": "stream",
     "text": [
      "/home/hades/exjobb/dumps/dnm/alphabay.tar.xz\n",
      "Tar-files: 165\n",
      "Tar-file members: 2024819\n"
     ]
    }
   ],
   "source": [
    "#\n",
    "# 1 - Get a list of tar-files (ret: tars)\n",
    "# 2 - Get members from arg\n",
    "# 3 - Get cleaned html-text from arg\n",
    "#\n",
    "tars = get_tars()\n",
    "tar_fn = tars[35]  #tars[35] = alphabay, 103 = Poseidon\n",
    "\n",
    "print(tar_fn)\n",
    "print(\"Tar-files:\",len(tars))\n",
    "\n",
    "members = get_tar_members(tar_fn)\n",
    "print(\"Tar-file members:\",len(members))"
   ]
  },
  {
   "cell_type": "code",
   "execution_count": 11,
   "metadata": {
    "collapsed": false,
    "deletable": true,
    "editable": true
   },
   "outputs": [
    {
     "name": "stderr",
     "output_type": "stream",
     "text": [
      "100%|██████████| 2024819/2024819 [00:01<00:00, 1864309.33it/s]"
     ]
    },
    {
     "name": "stdout",
     "output_type": "stream",
     "text": [
      "LISTINGS: 144455\n",
      "NONLISTINGS: 1880364\n"
     ]
    },
    {
     "name": "stderr",
     "output_type": "stream",
     "text": [
      "\n"
     ]
    }
   ],
   "source": [
    "#\n",
    "# See distribution: Listings vs. non-Listings\n",
    "#\n",
    "def get_dist(domain='alphabay'):\n",
    "    \n",
    "    if domain is 'poseidon':\n",
    "        term = \"item?id=\"\n",
    "        listings = [x for x in tqdm(members) if term in str(x.name)]\n",
    "        \n",
    "    elif domain is 'alphabay':\n",
    "        listings = [x for x in tqdm(members) if \"listing\" in str(x.name) and \"&\" not in str(x.name)]\n",
    "\n",
    "    print(\"LISTINGS:\", len(listings))\n",
    "    print(\"NONLISTINGS:\",len(members)-len(listings))\n",
    "    return listings\n",
    "    \n",
    "listings = get_dist()"
   ]
  },
  {
   "cell_type": "code",
   "execution_count": 12,
   "metadata": {
    "collapsed": false,
    "deletable": true,
    "editable": true,
    "scrolled": false
   },
   "outputs": [
    {
     "name": "stderr",
     "output_type": "stream",
     "text": [
      "100%|██████████| 144455/144455 [00:21<00:00, 6756.34it/s]"
     ]
    },
    {
     "name": "stdout",
     "output_type": "stream",
     "text": [
      "16822\n",
      "144455\n"
     ]
    },
    {
     "name": "stderr",
     "output_type": "stream",
     "text": [
      "\n"
     ]
    }
   ],
   "source": [
    "#\n",
    "# Sort out dublets from Alphabay\n",
    "#\n",
    "\n",
    "def get_unique(ls):\n",
    "    tmp = []\n",
    "    res = []\n",
    "    for m in tqdm(ls):\n",
    "        idt = m.name.split(\"&\")[0].split(\"/\")[-1]\n",
    "        if idt not in tmp:\n",
    "            tmp.append(idt)\n",
    "            res.append(m)\n",
    "    tmp = None\n",
    "    return res\n",
    "\n",
    "res = get_unique(listings)\n",
    "print(len((res)))\n",
    "print(len(set(listings)))"
   ]
  },
  {
   "cell_type": "code",
   "execution_count": 14,
   "metadata": {
    "collapsed": false,
    "deletable": true,
    "editable": true
   },
   "outputs": [
    {
     "name": "stderr",
     "output_type": "stream",
     "text": [
      "100%|██████████| 16822/16822 [07:56<00:00, 13.05s/it] \n"
     ]
    }
   ],
   "source": [
    "#\n",
    "# Store content from tar in list (HEAVY LOAD)\n",
    "#\n",
    "\n",
    "members_ = res\n",
    "content = None\n",
    "content = untar_members(tar_fn, members_)"
   ]
  },
  {
   "cell_type": "code",
   "execution_count": 61,
   "metadata": {
    "collapsed": false,
    "deletable": true,
    "editable": true
   },
   "outputs": [
    {
     "name": "stderr",
     "output_type": "stream",
     "text": [
      "100%|██████████| 16822/16822 [18:07<00:00, 15.47it/s] "
     ]
    },
    {
     "name": "stdout",
     "output_type": "stream",
     "text": [
      "OK : 15222\n",
      "Err: 1600\n"
     ]
    },
    {
     "name": "stderr",
     "output_type": "stream",
     "text": [
      "\n"
     ]
    }
   ],
   "source": [
    "#\n",
    "# Retireve Alphabay listing category. \n",
    "#\n",
    "\n",
    "def get_category(str):\n",
    "ind_start = substr(str, \"Home /\")+6\n",
    "mid_stop = substr(str, \"Listing Options\", ind_start)\n",
    "try:\n",
    "    ind_stop = rev_substr(str, \"/\\r\\n\", mid_stop)\n",
    "except:\n",
    "    ind_stop = rev_substr(str, \"/\\n\", mid_stop)\n",
    "\n",
    "cate = str[ind_start:ind_stop]\n",
    "cate = cate.replace(\"\\n\", \"\")\n",
    "cate = cate.replace(\" \", \"\")\n",
    "return cate \n",
    "\n",
    "category = []\n",
    "data = []\n",
    "err = []\n",
    "\n",
    "for fn in tqdm(content):\n",
    "    clean = clean_html(fn)\n",
    "    try:\n",
    "        cat = get_category(clean)\n",
    "        category.append(cat)\n",
    "        data.append(clean)\n",
    "    except:\n",
    "        err.append(clean)\n",
    "\n",
    "print(\"OK :\", len(category))\n",
    "print(\"Err:\", len(err))"
   ]
  },
  {
   "cell_type": "code",
   "execution_count": 13,
   "metadata": {
    "collapsed": false,
    "deletable": true,
    "editable": true
   },
   "outputs": [],
   "source": [
    "# namn = \"alphabay\"\n",
    "# pickle.dump((data, category), open(\"data/meta/{}_dataset.pickle\".format(namn), \"wb\"), protocol=2)"
   ]
  },
  {
   "cell_type": "code",
   "execution_count": 16,
   "metadata": {
    "collapsed": false,
    "deletable": true,
    "editable": true
   },
   "outputs": [],
   "source": [
    "#\n",
    "# Retireve Alphabay Silkroad category. \n",
    "#\n",
    "\n",
    "def get_category_silk():\n",
    "    problem = []\n",
    "    for x in tqdm(members):\n",
    "        try:\n",
    "            pr = rev_str_between(x,\".php?\",\"/\")\n",
    "            if pr == 'listings':\n",
    "                pr = pr[:-1]\n",
    "            problem.append(pr)\n",
    "    #         problem.append(get_category(x).replace(\"\\r\",\"\").split(\"/\")[0])\n",
    "        except:\n",
    "            problem.append(\"other\")\n",
    "    pprint(set(problem))"
   ]
  },
  {
   "cell_type": "code",
   "execution_count": 14,
   "metadata": {
    "collapsed": false,
    "deletable": true,
    "editable": true
   },
   "outputs": [
    {
     "name": "stderr",
     "output_type": "stream",
     "text": [
      "1923it [00:01, 1185.23it/s]"
     ]
    },
    {
     "name": "stdout",
     "output_type": "stream",
     "text": [
      "Files: 32016\n"
     ]
    },
    {
     "name": "stderr",
     "output_type": "stream",
     "text": [
      "\n"
     ]
    }
   ],
   "source": [
    "def get_files(root):\n",
    "    files_ = []\n",
    "    for path, subdirs, files in tqdm(os.walk(root)):\n",
    "        for name in files:\n",
    "            if \"page=\" not in name:\n",
    "                comb = os.path.join(path, name)\n",
    "                files_.append(comb)\n",
    "    return(files_)\n",
    "\n",
    "fn_list = get_files(\"/home/hades/exjobb/dumps/dnm/silkroad/\")\n",
    "print(\"Files:\", len(fn_list))"
   ]
  },
  {
   "cell_type": "code",
   "execution_count": 53,
   "metadata": {
    "collapsed": false,
    "deletable": true,
    "editable": true
   },
   "outputs": [],
   "source": [
    "# categories = {\"error\":0}\n",
    "\n",
    "# for ind in tqdm(content):\n",
    "#     tmp = {}\n",
    "#     data = clean_html(ind)\n",
    "#     try:\n",
    "#         cat = str_between(data, \"Search\", \"Alcohol\")\n",
    "#         cat = cat.replace(\" \", \"\")\n",
    "#         id = [x for x in cat.split(\"\\n\") if len(x)>2][0]\n",
    "        \n",
    "#         try:\n",
    "#             categories[id] += 1 \n",
    "#         except:\n",
    "#             categories[id] = 1 \n",
    "#     except:\n",
    "#         categories['error'] += 1\n",
    "\n",
    "# pprint(categories)"
   ]
  }
 ],
 "metadata": {
  "kernelspec": {
   "display_name": "Python 3",
   "language": "python",
   "name": "python3"
  },
  "language_info": {
   "codemirror_mode": {
    "name": "ipython",
    "version": 3
   },
   "file_extension": ".py",
   "mimetype": "text/x-python",
   "name": "python",
   "nbconvert_exporter": "python",
   "pygments_lexer": "ipython3",
   "version": "3.5.2"
  }
 },
 "nbformat": 4,
 "nbformat_minor": 2
}
