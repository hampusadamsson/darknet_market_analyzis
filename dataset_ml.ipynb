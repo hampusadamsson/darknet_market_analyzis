{
 "cells": [
  {
   "cell_type": "code",
   "execution_count": 3,
   "metadata": {
    "collapsed": false,
    "deletable": true,
    "editable": true
   },
   "outputs": [],
   "source": [
    "import pickle\n",
    "import matplotlib.pyplot as plt\n",
    "import numpy as np\n",
    "import sklearn\n",
    "import itertools\n",
    "import matplotlib\n",
    "\n",
    "\n",
    "from sklearn.pipeline import Pipeline\n",
    "from sklearn.model_selection import GridSearchCV\n",
    "from sklearn.ensemble import RandomForestClassifier, VotingClassifier\n",
    "from sklearn.svm import SVC\n",
    "\n",
    "from mpl_toolkits.mplot3d import Axes3D\n",
    "from pprint import pprint\n",
    "from tqdm import tqdm\n",
    "from copy import copy\n",
    "from sklearn.decomposition import PCA, TruncatedSVD\n",
    "from sklearn.ensemble import IsolationForest\n",
    "from sklearn.svm import OneClassSVM\n",
    "from sklearn.covariance import EllipticEnvelope\n",
    "from sklearn.mixture import GaussianMixture\n",
    "from sklearn.neighbors import KernelDensity\n",
    "from sklearn.feature_extraction.text import TfidfTransformer, CountVectorizer, HashingVectorizer, TfidfVectorizer\n",
    "from sklearn.model_selection import cross_val_score,train_test_split\n",
    "from sklearn.naive_bayes import MultinomialNB\n",
    "from sklearn.linear_model import SGDClassifier\n",
    "from sklearn.metrics import confusion_matrix\n",
    "\n",
    "from sklearn.decomposition import PCA, NMF, IncrementalPCA, FastICA, LatentDirichletAllocation, TruncatedSVD\n",
    "from sklearn.manifold import Isomap, MDS, LocallyLinearEmbedding, TSNE\n",
    "\n",
    "matplotlib.rcParams.update({'font.size': 13})\n",
    "plt.style.use(\"ggplot\")"
   ]
  },
  {
   "cell_type": "code",
   "execution_count": 84,
   "metadata": {
    "collapsed": false,
    "deletable": true,
    "editable": true
   },
   "outputs": [
    {
     "name": "stdout",
     "output_type": "stream",
     "text": [
      "[u'category', u'description']\n"
     ]
    }
   ],
   "source": [
    "#\n",
    "# Load the data from pickled class created in \"dataset_parser\"\n",
    "#\n",
    "\n",
    "# data = pickle.load(open(\"dataset_alphabay.p\",\"rb\"))\n",
    "# data = pickle.load(open(\"dataset_poseidon.p\",\"rb\"))\n",
    "# data = pickle.load(open(\"dataset_poseidon_nocheat.p\",\"rb\"))\n",
    "data = pickle.load(open(\"dataset_alphabay_nocheat.p\",\"rb\"))\n",
    "\n",
    "pprint(data[0].keys())"
   ]
  },
  {
   "cell_type": "code",
   "execution_count": 85,
   "metadata": {
    "collapsed": false,
    "deletable": true,
    "editable": true
   },
   "outputs": [],
   "source": [
    "#\n",
    "# Construct the data - X and Y (input/output)\n",
    "#\n",
    "description = [x.get(\"description\") for x in data]\n",
    "category = [x.get(\"category\").split(\"/\")[0] for x in data]\n",
    "category_subs = [x.get(\"category\") for x in data]\n",
    "\n",
    "# remove other listing\n",
    "# for _ in [1,2]: \n",
    "#     for i,x in enumerate(category):\n",
    "#         if u'OtherListings' in x:\n",
    "#             category.pop(i)\n",
    "#             description.pop(i)    "
   ]
  },
  {
   "cell_type": "code",
   "execution_count": 214,
   "metadata": {
    "collapsed": false,
    "deletable": true,
    "editable": true
   },
   "outputs": [],
   "source": [
    "#\n",
    "# Oversampling\n",
    "#\n",
    "\n",
    "def oversample(di, cat, nr):\n",
    "    tmp=[]\n",
    "    for x in range(nr):\n",
    "        new = di.get(cat)[x%len(di.get(cat))]\n",
    "        tmp.append(new)\n",
    "        \n",
    "    di[cat] = di.get(cat) + tmp"
   ]
  },
  {
   "cell_type": "code",
   "execution_count": 360,
   "metadata": {
    "collapsed": false,
    "deletable": true,
    "editable": true,
    "scrolled": false
   },
   "outputs": [
    {
     "name": "stdout",
     "output_type": "stream",
     "text": [
      "2222\n",
      "24442\n",
      "24442\n"
     ]
    }
   ],
   "source": [
    "\n",
    "max_sample = max([[x, category.count(x)] for x in set(category)], key=lambda x: x[1])[1]\n",
    "print(max_sample)\n",
    "\n",
    "#\n",
    "# Add al description to a dictionary\n",
    "#\n",
    "\n",
    "di = {}\n",
    "for c,d in zip(category, description):\n",
    "    try:\n",
    "        di.get(c).append(d)\n",
    "    except:\n",
    "        di[c] = []\n",
    "        di.get(c).append(d)\n",
    "\n",
    "for x in di.keys():\n",
    "    if len(di.get(x)) <= max_sample:\n",
    "        oversample(di, x, max_sample-len(di.get(x)))\n",
    "        \n",
    "category = []\n",
    "description = []\n",
    "\n",
    "for x in di.keys():\n",
    "    description += di.get(x)\n",
    "    category += [x]*len(di.get(x))\n",
    "\n",
    "print(len(category))\n",
    "print(len(description))"
   ]
  },
  {
   "cell_type": "code",
   "execution_count": 6,
   "metadata": {
    "collapsed": false,
    "deletable": true,
    "editable": true
   },
   "outputs": [],
   "source": [
    "# #\n",
    "# # Print the distribution between the categories\n",
    "# #\n",
    "\n",
    "# main_c = []\n",
    "# data2 = di\n",
    "\n",
    "# # for x in data.items():\n",
    "# #     try:\n",
    "# #         data2[x[0].split(\"/\")[0]] += x[1]\n",
    "# #     except:\n",
    "# #         data2[x[0].split(\"/\")[0]] = x[1]\n",
    "\n",
    "# d_key = [k for k in sorted(data2, key=lambda k: data2[k], reverse=True)]\n",
    "# d_val = [data2.get(k) for k in d_key]\n",
    "\n",
    "# fig = plt.figure()\n",
    "# plt.bar(range(len(data2)), d_val, align='center')\n",
    "# plt.xticks(range(len(data2)), d_key)\n",
    "# fig.autofmt_xdate()\n",
    "# plt.xlabel(\"Product category\")\n",
    "# plt.ylabel(\"Number of web pages\")\n",
    "# plt.show()"
   ]
  },
  {
   "cell_type": "code",
   "execution_count": 7,
   "metadata": {
    "collapsed": true,
    "deletable": true,
    "editable": true
   },
   "outputs": [],
   "source": [
    "### FOR ANOMALY DETECTION\n",
    "\n",
    "def anom():\n",
    "    weapon = [x for x in category if u'Weapons' in x]\n",
    "    weapon_binary = [u'Weapons' in x for x in category]\n",
    "\n",
    "    print \"weapons:\", len(weapon), \"(\"+str(len(weapon))+\")\"\n",
    "    print float(len(weapon))/float(len(category)-len(weapon))*100, \"% weapons\"\n",
    "\n",
    "    w_description = []\n",
    "    nw_category = copy(category)\n",
    "    nw_description = copy(description)\n",
    "\n",
    "    for _ in [1,2]: # remove this for \n",
    "        for i,x in enumerate(nw_category):\n",
    "            if u'Weapons' in x:\n",
    "                w_description.append(nw_description[i])\n",
    "                nw_category.pop(i)\n",
    "                nw_description.pop(i)\n",
    "                \n",
    "    return weapon, weapon_binary, w_description, nw_category, nw_description\n",
    "\n",
    "# weapon, weapon_binary, w_description, nw_category, nw_description = anom()"
   ]
  },
  {
   "cell_type": "code",
   "execution_count": 8,
   "metadata": {
    "collapsed": false,
    "deletable": true,
    "editable": true
   },
   "outputs": [],
   "source": [
    "# \n",
    "# Removing non-english\n",
    "#\n",
    "def language_eng():\n",
    "    from langdetect import detect,detect_langs\n",
    "    global category\n",
    "    global description\n",
    "\n",
    "    for dt in tqdm(data):\n",
    "        if detect(dt.get(\"description\")) != \"en\":\n",
    "            continue\n",
    "        description.append(dt.get(\"description\"))\n",
    "        category.append(dt.get(\"category\").split(\"/\")[0])"
   ]
  },
  {
   "cell_type": "code",
   "execution_count": 9,
   "metadata": {
    "collapsed": true,
    "deletable": true,
    "editable": true
   },
   "outputs": [],
   "source": [
    "from nltk import word_tokenize          \n",
    "from nltk.stem import WordNetLemmatizer\n",
    "\n",
    "class LemmaTokenizer(object):\n",
    "    def __init__(self):\n",
    "        self.wnl = WordNetLemmatizer()\n",
    "    def __call__(self, doc):\n",
    "        return [self.wnl.lemmatize(t) for t in word_tokenize(doc)]\n",
    "\n",
    "# vect = CountVectorizer(tokenizer=LemmaTokenizer())  "
   ]
  },
  {
   "cell_type": "code",
   "execution_count": 176,
   "metadata": {
    "collapsed": false,
    "deletable": true,
    "editable": true
   },
   "outputs": [],
   "source": [
    "# #\n",
    "# # count vectoriser - \n",
    "# # Ret: matrix containing occurance of word in document \n",
    "# #\n",
    "# # print(X_train_counts) \n",
    "# #   (document, word_id, occurances)\n",
    "# #   (0, 5976)\t2\n",
    "# #   (0, 15089)\t1\n",
    "# #   (0, 7283)\t1\n",
    "# #\n",
    "# def count_word_matrix():\n",
    "#     global X_train_counts\n",
    "#     count_vect = CountVectorizer(tokenizer=LemmaTokenizer()) #stop_words = 'english', min_df=0.0008\n",
    "#     X_train_counts = count_vect.fit_transform(description)\n",
    "#     print(X_train_counts.shape)\n",
    "    \n",
    "# # count_word_matrix()"
   ]
  },
  {
   "cell_type": "code",
   "execution_count": 87,
   "metadata": {
    "collapsed": false
   },
   "outputs": [
    {
     "data": {
      "image/png": "[encoded data removed]",
      "text/plain": [
       "<matplotlib.figure.Figure at 0x7f1918934dd0>"
      ]
     },
     "metadata": {},
     "output_type": "display_data"
    }
   ],
   "source": [
    "cv = []\n",
    "cv.append((CountVectorizer(),'default'))\n",
    "cv.append((CountVectorizer(stop_words='english'),'stopwords'))\n",
    "cv.append((CountVectorizer(min_df=2),'minDF=2'))\n",
    "cv.append((CountVectorizer(min_df=8),'minDF=8'))\n",
    "cv.append((CountVectorizer(min_df=0.01),'minDF=0.01'))\n",
    "cv.append((CountVectorizer(max_df=0.5),'maxDF=0.5'))\n",
    "cv.append((CountVectorizer(max_df=0.8),'maxDF=0.8'))\n",
    "\n",
    "\n",
    "res = [[] for _ in range(len(cv))]\n",
    "rangen = range(10,5000, 100)\n",
    "\n",
    "for i in rangen:\n",
    "    x = description[:i]\n",
    "    for ind, (cv_,lb) in enumerate(cv):\n",
    "        feat = cv_.fit_transform(x).shape[1]\n",
    "        res[ind].append(feat)\n",
    "\n",
    "plt.xlabel(\"Number of documents\")\n",
    "plt.ylabel(\"Number of unique words\")\n",
    "\n",
    "for ind, res_ in enumerate(res):\n",
    "    plt.plot(rangen, res_, label=cv[ind][1])\n",
    "\n",
    "plt.legend()\n",
    "plt.plot()\n",
    "plt.show()"
   ]
  },
  {
   "cell_type": "code",
   "execution_count": 10,
   "metadata": {
    "collapsed": false,
    "deletable": true,
    "editable": true
   },
   "outputs": [
    {
     "name": "stdout",
     "output_type": "stream",
     "text": [
      "('Feature:', (100, 1412))\n"
     ]
    }
   ],
   "source": [
    "from sklearn.decomposition import SparsePCA\n",
    "\n",
    "t_v = TfidfVectorizer(use_idf=False)\n",
    "feat = t_v.fit_transform(description[:100])\n",
    "\n",
    "print(\"Feature:\",feat.shape)\n",
    "\n",
    "spca = SparsePCA(n_components=3)\n",
    "t_feat = spca.fit_transform(feat.toarray())"
   ]
  },
  {
   "cell_type": "code",
   "execution_count": 6,
   "metadata": {
    "collapsed": false,
    "deletable": true,
    "editable": true
   },
   "outputs": [],
   "source": [
    "# print(t_feat)"
   ]
  },
  {
   "cell_type": "code",
   "execution_count": 88,
   "metadata": {
    "collapsed": false,
    "deletable": true,
    "editable": true
   },
   "outputs": [
    {
     "name": "stdout",
     "output_type": "stream",
     "text": [
      "(53504, 35093)\n"
     ]
    }
   ],
   "source": [
    "#\n",
    "# TFIDF w/o using countvectorizer (Equivalent to CountVectorizer + TfidfTransformer)\n",
    "#\n",
    "def tfidf(inp):\n",
    "    tfidf_transformer = TfidfVectorizer(use_idf=True,\n",
    "                                        stop_words='english',\n",
    "                                        min_df=10,\n",
    "                                        max_df=0.4)\n",
    "    \n",
    "    return tfidf_transformer.fit_transform(inp)\n",
    "    \n",
    "X_tfidf = tfidf(description)\n",
    "\n",
    "print(X_tfidf.shape)"
   ]
  },
  {
   "cell_type": "code",
   "execution_count": 169,
   "metadata": {
    "collapsed": false,
    "deletable": true,
    "editable": true
   },
   "outputs": [
    {
     "name": "stdout",
     "output_type": "stream",
     "text": [
      "(5583, 1048576)\n"
     ]
    }
   ],
   "source": [
    "#\n",
    "# Hashing vectorizer\n",
    "#\n",
    "def tfidf(inp):\n",
    "    hash_v = HashingVectorizer(stop_words='english')\n",
    "    return hash_v.fit_transform(inp)\n",
    "\n",
    "X_hash = tfidf(description)\n",
    "# X_train_tfidf_w = tfidf(w_description)\n",
    "# X_train_tfidf_nw = tfidf(nw_description)\n",
    "\n",
    "# tsvm = TruncatedSVD(n_components=100)\n",
    "# tsvm.fit(X_train_tfidf)\n",
    "# X_train_tfidf = tsvm.transform(X_train_tfidf)\n",
    "# X_train_tfidf_nw = tsvm.transform(X_train_tfidf_nw)\n",
    "# X_train_tfidf_w = tsvm.transform(X_train_tfidf_w)\n",
    "\n",
    "print(X_hash.shape)    "
   ]
  },
  {
   "cell_type": "code",
   "execution_count": null,
   "metadata": {
    "collapsed": false,
    "deletable": true,
    "editable": true
   },
   "outputs": [],
   "source": [
    "#\n",
    "# Problem and target \n",
    "#\n",
    "problem = category\n",
    "input_data = X_tfidf\n",
    "y_ = [list(set(problem)).index(x) for x in problem]"
   ]
  },
  {
   "cell_type": "code",
   "execution_count": null,
   "metadata": {
    "collapsed": false,
    "deletable": true,
    "editable": true,
    "scrolled": false
   },
   "outputs": [],
   "source": [
    "#\n",
    "# clf = list of estimators\n",
    "#\n",
    "\n",
    "# pca = TruncatedSVD(n_components=3)\n",
    "# pca.fit(X_tfidf)\n",
    "# input_data_10 = pca.transform(X_tfidf)\n",
    "# print(\"dmi_red_done\")\n",
    "\n",
    "X_train, X_test, y_train, y_test = train_test_split(input_data, y_, test_size=0.33)\n",
    "\n",
    "clf = VotingClassifier([('SVC_rbf',SVC()), \n",
    "                        ('Naibe_B',sklearn.naive_bayes.BernoulliNB()),\n",
    "                        ('SVC_linear', sklearn.svm.LinearSVC()),\n",
    "                        ('Ridge',sklearn.linear_model.RidgeClassifier()),\n",
    "                        ('KNN',sklearn.neighbors.KNeighborsClassifier()),\n",
    "                        ('SGD',SGDClassifier())])\n",
    "\n",
    "clf.fit(X_train, y_train)\n",
    "clf.score(X_test, y_test)\n",
    "# clf350 = clf\n",
    "# clf75 = clf\n",
    "# clf3 = clf\n",
    "# clf4249 = clf\n",
    "# clf10 = clf"
   ]
  },
  {
   "cell_type": "code",
   "execution_count": null,
   "metadata": {
    "collapsed": false,
    "deletable": true,
    "editable": true
   },
   "outputs": [],
   "source": [
    "#\n",
    "# Plot result of multiple classifiers (clfs)\n",
    "#\n",
    "matplotlib.rcParams.update({'font.size': 16})\n",
    "\n",
    "def plot_clfs(clf_list, names):\n",
    "    fig = plt.figure(figsize=(10,7))\n",
    "\n",
    "    for ind, clf_ in enumerate(clf_list):\n",
    "        inp = input_data\n",
    "#         if ind==0:\n",
    "#             inp = input_data_3\n",
    "#         if ind==1:\n",
    "#             inp = input_data_10\n",
    "#         if ind==2:\n",
    "#             inp = input_data_75\n",
    "#         if ind==3:\n",
    "#             inp = input_data_350\n",
    "#         if ind==4:\n",
    "#             inp = input_data\n",
    "        \n",
    "        X_train, X_test, y_train, y_test = train_test_split(inp, y_)\n",
    "        \n",
    "        clf_count = np.arange(len(clf_.estimators))\n",
    "        clf_scores = [est.score(X_test, y_test) for est in clf_.estimators_]\n",
    "        clf_names = [n[0] for n in clf_.estimators]\n",
    "        plt.bar(clf_count+0.8*ind, clf_scores, width=0.8, label=names[ind])\n",
    "\n",
    "        plt.xticks(clf_count, clf_names)\n",
    "        \n",
    "    fig.autofmt_xdate()\n",
    "    plt.legend()\n",
    "    plt.ylim([0,1])\n",
    "    plt.xlabel(\"Estimator\")\n",
    "    plt.ylabel(\"Accuracy\")\n",
    "    fig.show()\n",
    "    plt.show()\n",
    "\n",
    "plot_clfs([clf], ['Default'])\n",
    "# plot_clfs([clf3, clf10, clf75, clf350, clf4249], ['3','10', '75','350','4249'])\n",
    "# plot_clfs([clf_idf, clf_over], ['Normal', 'Oversample'])\n"
   ]
  },
  {
   "cell_type": "code",
   "execution_count": null,
   "metadata": {
    "collapsed": false,
    "deletable": true,
    "editable": true,
    "scrolled": false
   },
   "outputs": [],
   "source": [
    "%matplotlib inline\n",
    "matplotlib.rcParams.update({'font.size': 13})\n",
    "    \n",
    "# X_train, X_test, y_train, y_test = train_test_split(input_data, y_, test_size=0.33)\n",
    "# X_test = X_tfidf\n",
    "# y_test = y_\n",
    "\n",
    "class_names = list(set(problem))\n",
    "\n",
    "# clf = sklearn.svm.LinearSVC(penalty='l1', dual=0, multi_class='crammer_singer').fit(X_train, y_train)\n",
    "# clf = SGDClassifier().fit(X_train, y_train)\n",
    "\n",
    "classifier = clf.estimators_[4]\n",
    "\n",
    "print(\"Accuracy:\",classifier.score(X_test, y_test))\n",
    "y_pred = classifier.predict(X_test)\n",
    "\n",
    "\n",
    "def plot_confusion_matrix(cm, classes,\n",
    "                          normalize=False,\n",
    "                          title='Confusion matrix'):\n",
    "\n",
    "    cmap=plt.cm.Blues\n",
    "    \n",
    "    plt.imshow(cm, interpolation='nearest', cmap=cmap, vmin=0., vmax=cm.max())\n",
    "#     plt.title(title)\n",
    "#     plt.colorbar()\n",
    "    tick_marks = np.arange(len(classes))\n",
    "    plt.xticks(tick_marks, classes, rotation=45)\n",
    "    plt.yticks(tick_marks, classes)\n",
    "\n",
    "    if normalize:\n",
    "        cm = cm.astype('float') / cm.sum(axis=1)[:, np.newaxis]\n",
    "        print(\"Normalized confusion matrix\")\n",
    "    else:\n",
    "        print('Confusion matrix, without normalization')\n",
    "\n",
    "    print(cm)\n",
    "    \n",
    "    thresh = cm.max() * 0.85\n",
    "    for i, j in itertools.product(range(cm.shape[0]), range(cm.shape[1])):\n",
    "        if cm[i, j] < 0.01:\n",
    "            continue\n",
    "        plt.text(j, i, round(cm[i, j],2),\n",
    "                 horizontalalignment=\"center\",\n",
    "                 color=\"white\" if cm[i, j] > thresh else \"black\")\n",
    "\n",
    "    plt.tight_layout()\n",
    "    plt.ylabel('True label')\n",
    "    plt.xlabel('Predicted label')\n",
    "\n",
    "# Compute confusion matrix\n",
    "cnf_matrix = confusion_matrix(y_test, y_pred)\n",
    "np.set_printoptions(precision=2)\n",
    "\n",
    "fig = plt.figure()\n",
    "ax = fig.add_subplot(111)\n",
    "fig.set_size_inches(18,12)\n",
    "\n",
    "# Plot non-normalized confusion matrix\n",
    "# plt.figure()\n",
    "plot_confusion_matrix(cnf_matrix, classes=class_names,\n",
    "                      title='Confusion matrix, without normalization')\n",
    "\n",
    "fig = plt.figure()\n",
    "ax = fig.add_subplot(111)\n",
    "fig.set_size_inches(18, 12)\n",
    "\n",
    "# Plot normalized confusion matrix\n",
    "# plt.figure()\n",
    "plot_confusion_matrix(cnf_matrix, classes=class_names, normalize=True,\n",
    "                      title='Normalized confusion matrix')\n",
    "\n",
    "\n",
    "plt.show()"
   ]
  },
  {
   "cell_type": "code",
   "execution_count": null,
   "metadata": {
    "collapsed": false,
    "deletable": true,
    "editable": true,
    "scrolled": false
   },
   "outputs": [],
   "source": [
    "from sklearn.model_selection import GridSearchCV\n",
    "\n",
    "# input_data = [X]\n",
    "X_train, y_train = X_train_tfidf_nw, nw_category\n",
    "X_train, y_train = X_train_tfidf_w, weapon\n",
    "\n",
    "X_test, y_test = X_train_tfidf, category\n",
    "X_test_w, y_test_w = X_train_tfidf_w, weapon\n",
    "X_test_nw, y_test_nw = X_train_tfidf_nw, nw_category\n",
    "\n",
    "clf = OneClassSVM()\n",
    "parameters = {'kernel':('linear', 'rbf', 'sigmoid'), 'gamma':np.arange(0,1,0.1), 'nu':np.arange(0.01,1,0.1)}\n",
    "outl = GridSearchCV(clf, parameters, scoring='accuracy', n_jobs=-1)\n",
    "\n",
    "outl.fit(X_train, y_train)\n",
    "\n",
    "# ----\n",
    "inliers = float(outl.predict(X_test).tolist().count(1))/len(y_test)*100\n",
    "print(\"Inliers (All): {}%\".format(round(inliers,1)))\n",
    "\n",
    "inliers = float(outl.predict(X_test_w).tolist().count(1))/len(y_test_w)*100\n",
    "print(\"Inliers (Weapons): {}%\".format(round(inliers,1)))\n",
    "\n",
    "inliers = float(outl.predict(X_test_nw).tolist().count(1))/len(y_test_nw)*100\n",
    "print(\"Inliers (NO Weapons): {}%\".format(round(inliers,1)))\n",
    "\n",
    "print(outl.best_estimator_)"
   ]
  },
  {
   "cell_type": "code",
   "execution_count": null,
   "metadata": {
    "collapsed": false,
    "deletable": true,
    "editable": true
   },
   "outputs": [],
   "source": [
    "X_train, y_train = X_train_tfidf_w, weapon\n",
    "\n",
    "X_test, y_test = X_train_tfidf, category\n",
    "X_test_w, y_test_w = X_train_tfidf_w, weapon\n",
    "X_test_nw, y_test_nw = X_train_tfidf_nw, nw_category\n",
    "\n",
    "# be = OneClassSVM()\n",
    "# be = OneClassSVM(nu=0.01, gamma=0.15, kernel='linear')\n",
    "be = IsolationForest()\n",
    "# be = GaussianMixture(n_components=33)\n",
    "# be = KernelDensity()\n",
    "\n",
    "\n",
    "be.fit(X_train, y_train)\n",
    "\n",
    "inliers = float(be.predict(X_test).tolist().count(1))/len(y_test)*100\n",
    "print(\"Inliers (All): {}%\".format(round(inliers,1)))\n",
    "\n",
    "inliers = float(be.predict(X_test_w).tolist().count(1))/len(y_test_w)*100\n",
    "print(\"Inliers (Weapons): {}%\".format(round(inliers,1)))\n",
    "\n",
    "inliers = float(be.predict(X_test_nw).tolist().count(1))/len(y_test_nw)*100\n",
    "print(\"Inliers (NO Weapons): {}%\".format(round(inliers,1)))"
   ]
  },
  {
   "cell_type": "code",
   "execution_count": null,
   "metadata": {
    "collapsed": false,
    "deletable": true,
    "editable": true,
    "scrolled": true
   },
   "outputs": [],
   "source": [
    "clf = sklearn.neighbors.KNeighborsClassifier().fit(X_train, y_train)\n",
    "print(\"Accuracy:\",clf.score(X_test,y_test))\n",
    "\n",
    "from pandas import DataFrame\n",
    "col = []\n",
    "for i, da in enumerate(y_test):\n",
    "    if b'Wea' in da:\n",
    "        pred_y = clf.predict(X_test[i])[0]\n",
    "        ol = 1!=outl.predict(X_test[i])[0]\n",
    "        col.append([da,pred_y,ol])\n",
    "\n",
    "df = DataFrame(col,columns=[\"Y_true\",\"Y_predicted\",\"outlier\"])\n",
    "print(df.loc(df[\"outlier\"]==True))"
   ]
  },
  {
   "cell_type": "code",
   "execution_count": null,
   "metadata": {
    "collapsed": false,
    "deletable": true,
    "editable": true,
    "scrolled": false
   },
   "outputs": [],
   "source": [
    "print(\"Hits:\",df.shape[0])\n",
    "print(\"Wrong pred:\",df.loc[df[\"Y_true\"]!=df[\"Y_predicted\"]].shape[0])\n",
    "print(\"Correct pred:\",df.loc[df[\"Y_true\"]==df[\"Y_predicted\"]].shape[0])\n",
    "print(\"Outliers:\",df.loc[df[\"outlier\"]==1].shape[0])\n",
    "print(\"Outliers & wrong prediction:\",df.loc[df[\"outlier\"]==1][df[\"Y_true\"]!=df[\"Y_predicted\"]].shape[0])\n",
    "df.loc[df[\"Y_true\"]!=df[\"Y_predicted\"]]"
   ]
  },
  {
   "cell_type": "code",
   "execution_count": null,
   "metadata": {
    "collapsed": false,
    "deletable": true,
    "editable": true
   },
   "outputs": [],
   "source": [
    "# ii=0\n",
    "# for i,x in enumerate(y_test):\n",
    "# #     if b'Weapon' in x:\n",
    "# #         print(i,x,\"Outlier:\",clf.predict(X_test[i])==True)\n",
    "# #         ii+=1\n",
    "#     if clf.predict(X_test[i]):\n",
    "#         ii+=1\n",
    "        \n",
    "# print(ii)\n",
    "# print(len(y_test))\n",
    "# print(ii/len(y_test),\"inliers\")"
   ]
  },
  {
   "cell_type": "code",
   "execution_count": null,
   "metadata": {
    "collapsed": false,
    "deletable": true,
    "editable": true
   },
   "outputs": [],
   "source": []
  },
  {
   "cell_type": "code",
   "execution_count": null,
   "metadata": {
    "collapsed": false,
    "deletable": true,
    "editable": true,
    "scrolled": false
   },
   "outputs": [],
   "source": [
    "#\n",
    "# reduce dimension\n",
    "# Input: out dimension size - eg. 3\n",
    "# Out:   X\n",
    "#\n",
    "\n",
    "def red_dimen(inp, to):\n",
    "    pca = TruncatedSVD(n_components=to)\n",
    "    pca.fit(input_data)\n",
    "    X = pca.transform(inp)\n",
    "#     X = inp.toarray()\n",
    "#     pca = PCA(n_components=to)\n",
    "#     pca.fit(X)\n",
    "#     X = pca.transform(X)\n",
    "    return X"
   ]
  },
  {
   "cell_type": "code",
   "execution_count": null,
   "metadata": {
    "collapsed": false,
    "deletable": true,
    "editable": true,
    "scrolled": false
   },
   "outputs": [],
   "source": [
    "#\n",
    "# Plot X (3D)  \n",
    "# Input: X (global)\n",
    "#\n",
    "X = red_dimen(X_tfidf, 3)\n",
    "\n",
    "def plot_data():\n",
    "\n",
    "    %matplotlib inline\n",
    "    #inline, gtk, osx, tk, empty uses defaultgtk\n",
    "\n",
    "    fig = plt.figure(1, figsize=(10, 8))\n",
    "    ax = Axes3D(fig)\n",
    "\n",
    "    y = problem\n",
    "\n",
    "    for name, label in zip(list(set(problem)), list(set(y))):\n",
    "#         if \"outlier\" in str(name):# or u'Jewels&Gold' in name or u'Services' in name or u'Software&Malware' in name:\n",
    "#             continue\n",
    "        ax.scatter(X[[label==t for t in y], 0], \n",
    "                  X[[label==t for t in y], 1],\n",
    "                  X[[label==t for t in y], 2], label=name, s=6)\n",
    "    #     ax.text3D(X[[label==t for t in y], 0].mean(),\n",
    "    #               X[[label==t for t in y], 1].mean(),\n",
    "    #               X[[label==t for t in y], 2].mean(), name)          \n",
    "\n",
    "    plt.legend(loc='upper right', ncol=2)\n",
    "    ax.set_xlabel('PCA 0')\n",
    "    ax.set_ylabel('PCA 1')\n",
    "    ax.set_zlabel('PCA 2')\n",
    "    plt.show()\n",
    "    \n",
    "plot_data()"
   ]
  },
  {
   "cell_type": "code",
   "execution_count": null,
   "metadata": {
    "collapsed": false,
    "deletable": true,
    "editable": true
   },
   "outputs": [],
   "source": [
    "# #\n",
    "# # Plot X (3D)  \n",
    "# # Input: X (global)\n",
    "# #\n",
    "\n",
    "# X = red_dimen(X_tfidf, 3)\n",
    "\n",
    "# outl = GaussianMixture(n_components=2)\n",
    "# outl.fit(X)\n",
    "# outliers = outl.score_samples(X)\n",
    "\n",
    "# def plot_data():\n",
    "#     %matplotlib inline\n",
    "#     #inline, gtk, osx, tk, empty uses defaultgtk\n",
    "#     fig = plt.figure(1, figsize=(10, 8))\n",
    "#     ax = Axes3D(fig)\n",
    "#     ax.scatter(X[:, 0], X[:, 1], outliers, s=2, c=y_)\n",
    "#     ax.set_xlabel('X axis - PCA 0')\n",
    "#     ax.set_ylabel('Y axis - PCA 1')\n",
    "#     ax.set_zlabel('Weighted log probabilities')\n",
    "#     plt.show()\n",
    "    \n",
    "# plot_data()"
   ]
  },
  {
   "cell_type": "code",
   "execution_count": null,
   "metadata": {
    "collapsed": false,
    "deletable": true,
    "editable": true
   },
   "outputs": [],
   "source": [
    "#\n",
    "# Plot X (2D)  \n",
    "# Input: X2d (global)\n",
    "#\n",
    "\n",
    "X2d = red_dimen(X_tfidf, 2)\n",
    "    \n",
    "def plot_data():\n",
    "    %matplotlib inline\n",
    "    fig = plt.figure(figsize=(10,8))\n",
    "    y = problem\n",
    "    \n",
    "    for name in list(set(y)):\n",
    "        plt.scatter(X2d[[name==t for t in y], 0],\n",
    "                    X2d[[name==t for t in y], 1],\n",
    "                    label=name, s=10)\n",
    "        \n",
    "#         plt.text(X2d[[name==t for t in y], 0].mean(),\n",
    "#                  X2d[[name==t for t in y], 1].mean(),\n",
    "#                  name)\n",
    "\n",
    "    plt.xlabel(\"PCA0\")\n",
    "    plt.ylabel(\"PCA1\")\n",
    "    plt.legend(loc='upper right', ncol=2)\n",
    "    plt.show()\n",
    "    \n",
    "plot_data()"
   ]
  },
  {
   "cell_type": "code",
   "execution_count": null,
   "metadata": {
    "collapsed": false,
    "deletable": true,
    "editable": true
   },
   "outputs": [],
   "source": [
    "# inp_data = X_tfidf\n",
    "# pca2 = PCA(n_components=2500)\n",
    "pca2 = TruncatedSVD(n_components=3500)\n",
    "pca2.fit(X_tfidf)\n",
    "\n",
    "#\n",
    "# Scree plot\n",
    "#\n",
    "plt.ylabel(\"Variance\")\n",
    "plt.xlabel(\"Components\")\n",
    "plt.ylim(0)\n",
    "plt.text(1,0.85,\"Number of components\\n\"+str(X_tfidf.shape[1]))\n",
    "var_rat = np.cumsum(pca2.explained_variance_ratio_)\n",
    "var = np.cumsum(pca2.explained_variance_)\n",
    "plt.plot(var_rat, label=\"cumulative variance ratio\", c='r') #marker='o',\n",
    "plt.plot(var, label=\"cumulative variance\",c='b') #,marker='o'\n",
    "plt.legend(loc='lower right')\n",
    "plt.show()\n"
   ]
  },
  {
   "cell_type": "code",
   "execution_count": null,
   "metadata": {
    "collapsed": false,
    "deletable": true,
    "editable": true
   },
   "outputs": [],
   "source": [
    "# ----\n",
    "# print pca.explained_variance_\n",
    "# sort_w = pca.components_[0].sort()\n",
    "\n",
    "plt.ylabel(\"Variance ratio\")\n",
    "plt.xlabel(\"components in single value decomposition\")\n",
    "cumulative = np.cumsum(pca.explained_variance_ratio_)\n",
    "\n",
    "# plt.plot(pca.explained_variance_, label=\"variance\")\n",
    "# plt.plot(pca.explained_variance_ratio_, label=\"variance ratio\")\n",
    "plt.plot(cumulative, label=\"cumulative variance ratio\")\n",
    "plt.legend()\n",
    "\n",
    "plt.show()"
   ]
  },
  {
   "cell_type": "code",
   "execution_count": null,
   "metadata": {
    "collapsed": true,
    "deletable": true,
    "editable": true
   },
   "outputs": [],
   "source": []
  }
 ],
 "metadata": {
  "kernelspec": {
   "display_name": "Python 2",
   "language": "python",
   "name": "python2"
  },
  "language_info": {
   "codemirror_mode": {
    "name": "ipython",
    "version": 2
   },
   "file_extension": ".py",
   "mimetype": "text/x-python",
   "name": "python",
   "nbconvert_exporter": "python",
   "pygments_lexer": "ipython2",
   "version": "2.7.12"
  }
 },
 "nbformat": 4,
 "nbformat_minor": 2
}
