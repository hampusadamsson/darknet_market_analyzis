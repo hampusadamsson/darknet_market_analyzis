{
 "cells": [
  {
   "cell_type": "code",
   "execution_count": 1,
   "metadata": {
    "collapsed": true
   },
   "outputs": [],
   "source": [
    "import pickle\n",
    "import bs4\n",
    "import gzip\n",
    "import tarfile\n",
    "import matplotlib.pyplot as plt\n",
    "import numpy as np\n",
    "import os\n",
    "from bs4 import BeautifulSoup\n",
    "from tqdm import tqdm\n",
    "from os import listdir\n",
    "from os.path import isfile, join\n",
    "from pprint import pprint\n",
    "from operator import itemgetter\n",
    "\n",
    "# import matplotlib\n",
    "# matplotlib.rcParams.update({'font.size': 13})\n",
    "# plt.style.use(\"ggplot\")"
   ]
  },
  {
   "cell_type": "code",
   "execution_count": 20,
   "metadata": {
    "collapsed": false
   },
   "outputs": [
    {
     "name": "stdout",
     "output_type": "stream",
     "text": [
      "alphabay : 15222 samples, \n",
      " 12 mains,  48 subs\n",
      "poseidon : 3688 samples, \n",
      " 10 mains,  36 subs\n",
      "silkroad : 2137 samples, \n",
      " 1 mains,  22 subs\n"
     ]
    }
   ],
   "source": [
    "category = {}\n",
    "category_sub = {}\n",
    "description = {}\n",
    "\n",
    "for nm in [\"alphabay\", \"poseidon\", \"silkroad\"]:\n",
    "    description[nm], category[nm], category_sub[nm] = pickle.load(open(\"data/meta/{}_dataset.p\".format(nm), \"rb\"))    \n",
    "    print(nm, \":\", len(description[nm]), \"samples, \\n\", len(set(category[nm])),\"mains, \", len(set(category_sub[nm])), \"subs\")\n"
   ]
  },
  {
   "cell_type": "code",
   "execution_count": 10,
   "metadata": {
    "collapsed": true
   },
   "outputs": [],
   "source": [
    "#\n",
    "# Get substring start index\n",
    "#\n",
    "\n",
    "def substr(str0, subs, start=0):\n",
    "    for i in range(start,len(str0)+start):\n",
    "        if str0[i:i+len(subs)] == subs:\n",
    "            return i\n",
    "    raise ValueError('No substring:',subs)\n",
    "    \n",
    "def rev_substr(str0, subs, start):\n",
    "    for i in range(start,0,-1):\n",
    "        if str0[i:i+len(subs)] == subs:\n",
    "            return i\n",
    "    raise ValueError('No rev substring:',subs)\n",
    "\n",
    "def str_between(str_s, str1, str2):\n",
    "    str0=str(str_s)\n",
    "    start = substr(str0, str1)\n",
    "    stop = substr(str0, str2, start)\n",
    "    return str0[start+len(str1):stop]\n",
    "\n",
    "def rev_str_between(str_s, str1, str2):\n",
    "    str0=str(str_s)\n",
    "    start = substr(str0, str1)\n",
    "    stop = rev_substr(str0, str2, start)\n",
    "    return str0[stop+len(str2):start]"
   ]
  },
  {
   "cell_type": "code",
   "execution_count": 11,
   "metadata": {
    "collapsed": true
   },
   "outputs": [],
   "source": [
    "#\n",
    "# Retireve Alphabay listing category. \n",
    "#\n",
    "\n",
    "def get_category(str):\n",
    "    ind_start = substr(str, \"Home /\")+6\n",
    "    mid_stop = substr(str, \"Listing Options\", ind_start)\n",
    "    try:\n",
    "        ind_stop = rev_substr(str, \"/\\r\\n\", mid_stop)\n",
    "    except:\n",
    "        ind_stop = rev_substr(str, \"/\\n\", mid_stop)\n",
    "        \n",
    "    cate = str[ind_start:ind_stop]\n",
    "    cate = cate.replace(\"\\n\", \"\")\n",
    "    cate = cate.replace(\" \", \"\")\n",
    "    return cate \n"
   ]
  },
  {
   "cell_type": "code",
   "execution_count": 13,
   "metadata": {
    "collapsed": true
   },
   "outputs": [],
   "source": [
    "#\n",
    "# Retireve Alphabay listing category. \n",
    "#\n",
    "\n",
    "def rem_category(str):\n",
    "    ind_start = substr(str, \"Home /\")+6\n",
    "    mid_stop = substr(str, \"Listing Options\", ind_start)\n",
    "    try:\n",
    "        ind_stop = rev_substr(str, \"/\\r\\n\", mid_stop)\n",
    "    except:\n",
    "        ind_stop = rev_substr(str, \"/\\n\", mid_stop)\n",
    "        \n",
    "    cate = str[:ind_start]\n",
    "    cate += str[ind_stop:]\n",
    "    return cate \n"
   ]
  },
  {
   "cell_type": "code",
   "execution_count": 23,
   "metadata": {
    "collapsed": false
   },
   "outputs": [],
   "source": [
    "for i, x in enumerate(description[\"alphabay\"]):\n",
    "    description[\"alphabay\"][i] = rem_category(x)"
   ]
  },
  {
   "cell_type": "code",
   "execution_count": 26,
   "metadata": {
    "collapsed": false,
    "scrolled": false
   },
   "outputs": [],
   "source": [
    "nm = \"alphabay\"\n",
    "pickle.dump((description[nm], category[nm], category_sub[nm]), open(\"data/meta/alphabay_dataset.p\", \"wb\"), protocol=2)    \n"
   ]
  }
 ],
 "metadata": {
  "kernelspec": {
   "display_name": "Python 3",
   "language": "python",
   "name": "python3"
  },
  "language_info": {
   "codemirror_mode": {
    "name": "ipython",
    "version": 3
   },
   "file_extension": ".py",
   "mimetype": "text/x-python",
   "name": "python",
   "nbconvert_exporter": "python",
   "pygments_lexer": "ipython3",
   "version": "3.5.2"
  }
 },
 "nbformat": 4,
 "nbformat_minor": 2
}
