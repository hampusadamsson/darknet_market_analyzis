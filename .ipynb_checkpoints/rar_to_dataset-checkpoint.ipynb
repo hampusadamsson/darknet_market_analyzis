{
 "cells": [
  {
   "cell_type": "code",
   "execution_count": 1,
   "metadata": {
    "collapsed": false,
    "deletable": true,
    "editable": true
   },
   "outputs": [],
   "source": [
    "import pickle\n",
    "import bs4\n",
    "import gzip\n",
    "import tarfile\n",
    "import matplotlib.pyplot as plt\n",
    "import numpy as np\n",
    "import pprint\n",
    "\n",
    "from bs4 import BeautifulSoup\n",
    "from tqdm import tqdm\n",
    "from os import listdir\n",
    "from os.path import isfile, join\n",
    "from pprint import pprint\n",
    "from operator import itemgetter\n",
    "\n",
    "from bs4 import BeautifulSoup\n",
    "\n",
    "import os"
   ]
  },
  {
   "cell_type": "code",
   "execution_count": 5,
   "metadata": {
    "collapsed": true,
    "deletable": true,
    "editable": true
   },
   "outputs": [],
   "source": [
    "#\n",
    "# Removes script and html-tags - returns plain text\n",
    "#\n",
    "def clean_html(str):\n",
    "    soup = BeautifulSoup(str,\"lxml\")\n",
    "\n",
    "    for script in soup([\"script\", \"style\"]):\n",
    "        script.extract() # rip it out \n",
    "\n",
    "    text = soup.get_text(strip=False)\n",
    "    text = text.replace(u'\\xa0',u'')\n",
    "#     text = rem_numb(text)\n",
    "    return text"
   ]
  },
  {
   "cell_type": "code",
   "execution_count": 10,
   "metadata": {
    "collapsed": false,
    "deletable": true,
    "editable": true
   },
   "outputs": [],
   "source": [
    "#\n",
    "# Get substring start index\n",
    "#\n",
    "def substr(str0, subs, start=0):\n",
    "    for i in range(start,len(str0)+start):\n",
    "        if str0[i:i+len(subs)] == subs:\n",
    "            return i\n",
    "    raise ValueError('No substring:',subs)\n",
    "    \n",
    "def rev_substr(str0, subs, start):\n",
    "    for i in range(start,0,-1):\n",
    "        if str0[i:i+len(subs)] == subs:\n",
    "            return i\n",
    "    raise ValueError('No rev substring:',subs)\n",
    "\n",
    "def str_between(str_s, str1, str2):\n",
    "    str0=str(str_s)\n",
    "    start = substr(str0, str1)\n",
    "    stop = substr(str0, str2, start)\n",
    "    return str0[start+len(str1):stop]\n",
    "\n",
    "def rev_str_between(str_s, str1, str2):\n",
    "    str0=str(str_s)\n",
    "    start = substr(str0, str1)\n",
    "    stop = rev_substr(str0, str2, start)\n",
    "    return str0[stop+len(str2):start]\n",
    "    \n",
    "# test = \"<TarInfo 'alphabay/2015-04-30/search.php?s_terms=ua&pg=18' at 0x7f9dc97d2368>\"\n",
    "# test = \"<TarInfo 'alphabay/2015-06-12/user.php?id=2680&tab=5&pg4=1' at 0x7f9dbec302a0>\"\n",
    "# test = \" <TarInfo 'silkroad2-forums/2014-02-21/index.php?topic=11429.0' at 0x7f6098dfef20>,\"\n",
    "# rev_str_between(test,\".php?\",\"/\")"
   ]
  },
  {
   "cell_type": "code",
   "execution_count": 11,
   "metadata": {
    "collapsed": false,
    "deletable": true,
    "editable": true
   },
   "outputs": [
    {
     "name": "stdout",
     "output_type": "stream",
     "text": [
      "files: 158798\n"
     ]
    }
   ],
   "source": [
    "#\n",
    "# Get categories from silkroad\n",
    "#\n",
    "\n",
    "# root = \"/home/hades/exjobb/dumps/dnm/poseidon/\"\n",
    "root = \"/home/hades/exjobb/dumps/dnm/alphabay/\"\n",
    "\n",
    "f_l = []\n",
    "for path, subdirs, files in os.walk(root):\n",
    "    for name in files:\n",
    "        f_l.append(os.path.join(path, name))\n",
    "\n",
    "print(\"files:\",len(list(set(f_l))))"
   ]
  },
  {
   "cell_type": "code",
   "execution_count": 12,
   "metadata": {
    "collapsed": false,
    "deletable": true,
    "editable": true
   },
   "outputs": [
    {
     "name": "stderr",
     "output_type": "stream",
     "text": [
      "  4%|▎         | 2/57 [00:00<00:04, 13.07it/s]"
     ]
    },
    {
     "name": "stdout",
     "output_type": "stream",
     "text": [
      "files: 158798\n",
      "Items in files: 56204\n"
     ]
    },
    {
     "name": "stderr",
     "output_type": "stream",
     "text": [
      "100%|██████████| 57/57 [00:03<00:00, 18.32it/s]\n"
     ]
    }
   ],
   "source": [
    "items = [x for x in f_l if 'listing' in x ]\n",
    "print(\"files:\",len(list(set(f_l))))\n",
    "print(\"Items in files:\",len(list(set(items))))\n",
    "\n",
    "# pprint(items[10000:10010])\n",
    "\n",
    "content = []\n",
    "for x in tqdm(items[::1000]):\n",
    "    with open(x,\"rb\") as f:\n",
    "        raw = f.read()\n",
    "        clean = clean_html(raw)\n",
    "        content.append(clean)\n"
   ]
  },
  {
   "cell_type": "code",
   "execution_count": 13,
   "metadata": {
    "collapsed": false,
    "deletable": true,
    "editable": true
   },
   "outputs": [],
   "source": [
    "# # POSEIDON MARKET\n",
    "# items = [x for x in f_l if 'item' in x and 'img' not in x]\n",
    "\n",
    "# print(\"files:\",len(list(set(f_l))))\n",
    "# print(\"Items in files:\",len(list(set(items))))\n",
    "\n",
    "# content = []\n",
    "# for x in items:\n",
    "#     with open(x,\"rb\") as f:\n",
    "#         raw = f.read()\n",
    "#         clean = clean_html(raw)\n",
    "#         content.append(clean)"
   ]
  },
  {
   "cell_type": "code",
   "execution_count": 14,
   "metadata": {
    "collapsed": false,
    "deletable": true,
    "editable": true
   },
   "outputs": [
    {
     "name": "stderr",
     "output_type": "stream",
     "text": [
      "100%|██████████| 57/57 [00:00<00:00, 3586.17it/s]"
     ]
    },
    {
     "name": "stdout",
     "output_type": "stream",
     "text": [
      "err: 4 57\n"
     ]
    },
    {
     "name": "stderr",
     "output_type": "stream",
     "text": [
      "\n"
     ]
    }
   ],
   "source": [
    "res = []\n",
    "\n",
    "def get_category(str):\n",
    "    ind_start = substr(str, \"Home /\")+6\n",
    "    mid_stop = substr(str, \"Listing Options\", ind_start)\n",
    "    ind_stop = rev_substr(str, \"\\n\", mid_stop)\n",
    "    cate = str[ind_start:ind_stop]\n",
    "    _ = cate\n",
    "    cate = cate.replace(\"\\n\", \"\")\n",
    "    cate = cate.replace(\" \", \"\")\n",
    "    cate = cate.replace(\"\\r\", \"\")\n",
    "    return cate, _\n",
    "\n",
    "err = 0\n",
    "for x in tqdm(content):\n",
    "    try:\n",
    "        res_ = {}\n",
    "        cat,_ = get_category(x)\n",
    "        res_['category'] = cat\n",
    "        res_['description'] = x.replace(_,\"\")\n",
    "        res.append(res_)\n",
    "    except:\n",
    "        err+=1\n",
    "\n",
    "print(\"err:\", err, (len(content)))"
   ]
  },
  {
   "cell_type": "code",
   "execution_count": 15,
   "metadata": {
    "collapsed": true,
    "deletable": true,
    "editable": true
   },
   "outputs": [],
   "source": [
    "# pickle.dump(res, open(\"dataset_alphabay_nocheat.p\", \"wb\"), protocol=2)"
   ]
  },
  {
   "cell_type": "code",
   "execution_count": 19,
   "metadata": {
    "collapsed": true,
    "deletable": true,
    "editable": true
   },
   "outputs": [],
   "source": [
    "# def get_c(fn):\n",
    "#     with open(fn, \"rb\") as f:\n",
    "#         raw = f.read()\n",
    "#     return(raw)"
   ]
  },
  {
   "cell_type": "code",
   "execution_count": 18,
   "metadata": {
    "collapsed": false,
    "deletable": true,
    "editable": true
   },
   "outputs": [],
   "source": [
    "# def get_itemlist(root_cat,fn):\n",
    "#     with open(root_cat+fn, \"rb\") as f:\n",
    "#         raw = f.read()\n",
    "\n",
    "#     soup = BeautifulSoup(raw, 'lxml')\n",
    "\n",
    "#     topic_raw = [link.get('href') for link in soup.find_all('a')]\n",
    "\n",
    "#     if topic_raw == None:\n",
    "#         return([])\n",
    "\n",
    "#     topic = list(set([x for x in topic_raw if None != x and '/item' == x[:5] and not 'shipping' == x[-8:]]))\n",
    "\n",
    "#     return(topic)\n",
    "\n",
    "# # get_itemlist(\"drugs-cannabis-shake/items\")"
   ]
  },
  {
   "cell_type": "code",
   "execution_count": 113,
   "metadata": {
    "collapsed": false,
    "deletable": true,
    "editable": true
   },
   "outputs": [],
   "source": [
    "# res = []\n",
    "\n",
    "# for x in conts.keys():\n",
    "#     for text in conts.get(x):\n",
    "#         res_ = {}\n",
    "#         res_['description'] = text\n",
    "#         res_['category'] = x\n",
    "#         res.append(res_)"
   ]
  },
  {
   "cell_type": "code",
   "execution_count": 114,
   "metadata": {
    "collapsed": true,
    "deletable": true,
    "editable": true
   },
   "outputs": [],
   "source": [
    "# pickle.dump(res, open(\"dataset_silkroad.p\", \"wb\"))"
   ]
  }
 ],
 "metadata": {
  "kernelspec": {
   "display_name": "Python 3",
   "language": "python",
   "name": "python3"
  },
  "language_info": {
   "codemirror_mode": {
    "name": "ipython",
    "version": 3
   },
   "file_extension": ".py",
   "mimetype": "text/x-python",
   "name": "python",
   "nbconvert_exporter": "python",
   "pygments_lexer": "ipython3",
   "version": "3.5.2"
  }
 },
 "nbformat": 4,
 "nbformat_minor": 2
}
