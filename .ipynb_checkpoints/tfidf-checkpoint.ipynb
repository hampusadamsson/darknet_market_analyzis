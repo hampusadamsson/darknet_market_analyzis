{
 "cells": [
  {
   "cell_type": "code",
   "execution_count": 102,
   "metadata": {
    "collapsed": true
   },
   "outputs": [],
   "source": [
    "import numpy as np\n",
    "\n",
    "from scipy.sparse import dok_matrix\n",
    "from nltk.tokenize import TweetTokenizer\n",
    "from tqdm import tqdm\n",
    "from pprint import pprint"
   ]
  },
  {
   "cell_type": "code",
   "execution_count": 143,
   "metadata": {
    "collapsed": false
   },
   "outputs": [],
   "source": [
    "vocabulary = [0,{}]\n",
    "\n",
    "def w_pos(word):\n",
    "    try:\n",
    "        p = vocabulary[1][word]\n",
    "    except:\n",
    "        vocabulary[0] += 1\n",
    "        p = vocabulary[0]\n",
    "        vocabulary[1][word] = p\n",
    "    return(p)"
   ]
  },
  {
   "cell_type": "code",
   "execution_count": 144,
   "metadata": {
    "collapsed": false
   },
   "outputs": [
    {
     "data": {
      "text/plain": [
       "[0, {}]"
      ]
     },
     "execution_count": 144,
     "metadata": {},
     "output_type": "execute_result"
    }
   ],
   "source": [
    "vocabulary"
   ]
  },
  {
   "cell_type": "code",
   "execution_count": 145,
   "metadata": {
    "collapsed": true
   },
   "outputs": [],
   "source": [
    "c_m = [0,dok_matrix((10000, 50000), dtype=np.float32)]\n",
    "\n",
    "tkn = TweetTokenizer()\n",
    "\n",
    "def add_document(doc):\n",
    "    for w in tkn.tokenize(doc):\n",
    "        c_m[1][c_m[0],w_pos(w)]+=1\n",
    "    c_m[0]+=1\n"
   ]
  },
  {
   "cell_type": "code",
   "execution_count": 146,
   "metadata": {
    "collapsed": false
   },
   "outputs": [
    {
     "name": "stdout",
     "output_type": "stream",
     "text": [
      "  (0, 1)\t1.0\n",
      "  (0, 3)\t1.0\n",
      "  (0, 5)\t1.0\n",
      "  (0, 2)\t1.0\n",
      "  (0, 4)\t1.0\n",
      "---\n",
      "  (0, 1)\t1.0\n",
      "  (1, 2)\t2.0\n",
      "  (1, 3)\t2.0\n",
      "  (0, 2)\t1.0\n",
      "  (0, 5)\t1.0\n",
      "  (0, 4)\t1.0\n",
      "  (1, 6)\t5.0\n",
      "  (0, 3)\t1.0\n",
      "  (1, 1)\t1.0\n",
      "---\n"
     ]
    }
   ],
   "source": [
    "docs = [\"hej jag heter hampus von\",\n",
    "        \"hej jag heter max max max max max jag heter\"]\n",
    "\n",
    "for i,d in enumerate(docs):\n",
    "    add_document(d)\n",
    "    print c_m[1]\n",
    "    print(\"---\")\n",
    "        "
   ]
  },
  {
   "cell_type": "code",
   "execution_count": null,
   "metadata": {
    "collapsed": true
   },
   "outputs": [],
   "source": []
  },
  {
   "cell_type": "code",
   "execution_count": null,
   "metadata": {
    "collapsed": true
   },
   "outputs": [],
   "source": []
  }
 ],
 "metadata": {
  "kernelspec": {
   "display_name": "Python 2",
   "language": "python",
   "name": "python2"
  },
  "language_info": {
   "codemirror_mode": {
    "name": "ipython",
    "version": 2
   },
   "file_extension": ".py",
   "mimetype": "text/x-python",
   "name": "python",
   "nbconvert_exporter": "python",
   "pygments_lexer": "ipython2",
   "version": "2.7.12"
  }
 },
 "nbformat": 4,
 "nbformat_minor": 2
}
